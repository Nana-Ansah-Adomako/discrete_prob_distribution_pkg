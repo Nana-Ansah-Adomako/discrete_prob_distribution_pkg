{
 "cells": [
  {
   "cell_type": "code",
   "execution_count": 3,
   "id": "873df660-1c1c-4f63-a757-0a5fb347c72f",
   "metadata": {},
   "outputs": [],
   "source": [
    "from discrete_pmf import *"
   ]
  },
  {
   "cell_type": "code",
   "execution_count": 5,
   "id": "f7173a2a-1216-4b3e-927f-720682ec2fca",
   "metadata": {},
   "outputs": [
    {
     "name": "stdout",
     "output_type": "stream",
     "text": [
      "/home/nana-ansah-adomako/anaconda3/bin/jupyter-lab\n"
     ]
    }
   ],
   "source": [
    "! which jupyter-lab"
   ]
  },
  {
   "cell_type": "code",
   "execution_count": null,
   "id": "2a4856b7-a0a7-4774-b37a-8abdda84bdec",
   "metadata": {},
   "outputs": [],
   "source": []
  }
 ],
 "metadata": {
  "kernelspec": {
   "display_name": "Python [conda env:base] *",
   "language": "python",
   "name": "conda-base-py"
  },
  "language_info": {
   "codemirror_mode": {
    "name": "ipython",
    "version": 3
   },
   "file_extension": ".py",
   "mimetype": "text/x-python",
   "name": "python",
   "nbconvert_exporter": "python",
   "pygments_lexer": "ipython3",
   "version": "3.12.2"
  }
 },
 "nbformat": 4,
 "nbformat_minor": 5
}
