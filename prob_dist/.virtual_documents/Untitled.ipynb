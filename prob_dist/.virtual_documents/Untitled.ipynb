from discrete_pmf import *


! which jupyter-lab



