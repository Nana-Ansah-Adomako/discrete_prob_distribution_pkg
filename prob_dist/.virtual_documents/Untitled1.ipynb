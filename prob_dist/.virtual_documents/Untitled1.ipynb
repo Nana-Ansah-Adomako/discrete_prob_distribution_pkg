from discrete_pmf import *


help(binom_pmf)


binom_pmf(x_values=range(0,40,2), n=40, p_list= [0.2, 0.4, 0.5, 0.6])


pip install discrete-pmf


from discrete_pmf import *



